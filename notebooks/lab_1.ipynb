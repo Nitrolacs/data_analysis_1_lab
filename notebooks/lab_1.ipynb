{
 "cells": [
  {
   "cell_type": "markdown",
   "source": [
    "# Практическая работа №1\n",
    "## Предварительная обработка данных\n",
    "Выполнил: Терентьев Никита Александрович КИ21-16/1б\n",
    "Вариант: 21\n",
    "## Цель работы\n",
    "Знакомство с основными задачами предварительной обработки исходных данных, изучение основных методов предварительной обработки данных, формирование навыков выполнения предварительной обработки исходных данных с помощью языка программирования Python.\n",
    "## Задачи\n",
    "Выполнение практической работы предполагает решение следующих задач:\n",
    "1. Визуальный анализ исходных данных\n",
    "2. Поиск аномальных значений\n",
    "3. Поиск и восстановление отсутствующих значений\n",
    "4. Преобразование данных\n",
    "## Ход работы\n"
   ],
   "metadata": {
    "collapsed": false
   }
  },
  {
   "cell_type": "code",
   "execution_count": null,
   "outputs": [],
   "source": [],
   "metadata": {
    "collapsed": false
   }
  }
 ],
 "metadata": {
  "kernelspec": {
   "display_name": "Python 3",
   "language": "python",
   "name": "python3"
  },
  "language_info": {
   "codemirror_mode": {
    "name": "ipython",
    "version": 2
   },
   "file_extension": ".py",
   "mimetype": "text/x-python",
   "name": "python",
   "nbconvert_exporter": "python",
   "pygments_lexer": "ipython2",
   "version": "2.7.6"
  }
 },
 "nbformat": 4,
 "nbformat_minor": 0
}
